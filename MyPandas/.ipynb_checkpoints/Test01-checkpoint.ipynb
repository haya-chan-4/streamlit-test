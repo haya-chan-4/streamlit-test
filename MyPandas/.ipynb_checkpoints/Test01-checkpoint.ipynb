{
 "cells": [
  {
   "cell_type": "markdown",
   "id": "776196f5-6bbb-4870-b3bf-9ef60d62fcd3",
   "metadata": {},
   "source": [
    "こんにちは"
   ]
  },
  {
   "cell_type": "code",
   "execution_count": null,
   "id": "d4534e9f-7948-4230-9356-a553bfa28e1d",
   "metadata": {},
   "outputs": [],
   "source": [
    "\n"
   ]
  },
  {
   "cell_type": "code",
   "execution_count": null,
   "id": "c10cfd44-1da2-4a44-b9f8-1a4bf773bfac",
   "metadata": {},
   "outputs": [],
   "source": []
  }
 ],
 "metadata": {
  "kernelspec": {
   "display_name": "Python 3 (ipykernel)",
   "language": "python",
   "name": "python3"
  },
  "language_info": {
   "codemirror_mode": {
    "name": "ipython",
    "version": 3
   },
   "file_extension": ".py",
   "mimetype": "text/x-python",
   "name": "python",
   "nbconvert_exporter": "python",
   "pygments_lexer": "ipython3",
   "version": "3.9.13"
  }
 },
 "nbformat": 4,
 "nbformat_minor": 5
}
